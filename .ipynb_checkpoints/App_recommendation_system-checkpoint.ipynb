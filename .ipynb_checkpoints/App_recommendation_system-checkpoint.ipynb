{
 "cells": [
  {
   "cell_type": "markdown",
   "id": "d588df2c",
   "metadata": {},
   "source": [
    "<h1>Reccomendation System</h1>"
   ]
  },
  {
   "cell_type": "markdown",
   "id": "fccde0d5",
   "metadata": {},
   "source": [
    "<h2>Importing Libraries</h2>"
   ]
  },
  {
   "cell_type": "code",
   "execution_count": 1,
   "id": "78d77505",
   "metadata": {},
   "outputs": [],
   "source": [
    "import numpy as np\n",
    "import random as rn\n",
    "import pandas as pd\n",
    "import seaborn as sns\n",
    "import re\n",
    "import math"
   ]
  },
  {
   "cell_type": "markdown",
   "id": "c85842d9",
   "metadata": {},
   "source": [
    "<h2>Importing Database</h2>"
   ]
  },
  {
   "cell_type": "code",
   "execution_count": 2,
   "id": "0fbd7ff8",
   "metadata": {},
   "outputs": [],
   "source": [
    "apps = pd.read_csv(r\"googleplaystore.csv\")"
   ]
  },
  {
   "cell_type": "markdown",
   "id": "0f177883",
   "metadata": {},
   "source": [
    "<h1>Data Cleanup</h1>"
   ]
  },
  {
   "cell_type": "code",
   "execution_count": 3,
   "id": "4f4c565b",
   "metadata": {},
   "outputs": [],
   "source": [
    "display(apps)"
   ]
  },
  {
   "cell_type": "code",
   "execution_count": 4,
   "id": "58b6e07e",
   "metadata": {},
   "outputs": [],
   "source": [
    "apps = apps.drop(columns=['Type', 'Price', 'Category','Last Updated', 'Current Ver'])\n",
    "apps.head()"
   ]
  },
  {
   "cell_type": "code",
   "execution_count": null,
   "id": "27b9f3d3",
   "metadata": {},
   "outputs": [],
   "source": []
  },
  {
   "cell_type": "code",
   "execution_count": null,
   "id": "f80a2154",
   "metadata": {},
   "outputs": [],
   "source": []
  },
  {
   "cell_type": "code",
   "execution_count": 5,
   "id": "62d0464d",
   "metadata": {},
   "outputs": [],
   "source": [
    "apps['Android Ver'] = apps['Android Ver'].str.replace('[^\\d.]', '')\n",
    "avgVer = pd.to_numeric(apps['Android Ver'], errors='coerce').mean()\n",
    "apps['Android Ver'] = apps['Android Ver'].replace('', avgVer)\n",
    "apps['Android Ver'] = apps['Android Ver'].str.replace('.','a', regex=True).str.replace('a','.', 1, regex=True).str.replace('a','', regex=True)\n",
    "apps['Size'] = apps['Size'].str.replace('[^\\d.]', '')\n",
    "apps['Installs'] = apps['Installs'].str.replace('[^\\d.]', '')\n",
    "\n",
    "avgSize = pd.to_numeric(apps['Size'], errors='coerce').mean()\n",
    "apps['Size'] = apps['Size'].replace('', avgSize)\n",
    "apps = apps.dropna()\n",
    "apps = apps.astype({'Reviews':'float', 'Size':'float', 'Installs':'float', 'Android Ver':'float'})"
   ]
  },
  {
   "cell_type": "code",
   "execution_count": 6,
   "id": "b5ac05e5",
   "metadata": {},
   "outputs": [],
   "source": [
    "class DataClean:\n",
    "    @staticmethod\n",
    "    def splitGenres(x):\n",
    "        genresConnected = x[\"Genres\"].unique().tolist()\n",
    "        genres = set(())\n",
    "        for i in genresConnected:\n",
    "            afterSplit = i.split(\";\")\n",
    "            for j in afterSplit:\n",
    "                if j!='February 11, 2018':\n",
    "                    genres.add(j)\n",
    "        for i in list(genres):\n",
    "            x[i] = [0 for x in range(x.shape[0])]\n",
    "        for index in x.index:\n",
    "            values = x.loc[index,'Genres'].split(\";\")\n",
    "            for i in values:\n",
    "                x.loc[index,i] = 1\n",
    "        return x"
   ]
  },
  {
   "cell_type": "code",
   "execution_count": 7,
   "id": "1eb48bdf",
   "metadata": {},
   "outputs": [],
   "source": [
    "apps = DataClean.splitGenres(apps)\n",
    "apps.head()\n",
    "apps.drop(columns=['Genres'])"
   ]
  },
  {
   "cell_type": "code",
   "execution_count": 8,
   "id": "78bfb23c",
   "metadata": {},
   "outputs": [],
   "source": [
    "class DataProcessing:\n",
    "    @staticmethod\n",
    "    def shuffle(x):\n",
    "        for i in range(len(x)-1,0,-1):\n",
    "            j=rn.randint(0,i-1)\n",
    "            x.iloc[j], x.iloc[i] = x.iloc[i], x.iloc[j]\n",
    "            \n",
    "    @staticmethod\n",
    "    def normalization(x):\n",
    "        values=x.select_dtypes(exclude=\"object\")\n",
    "        columnNames=values.columns.tolist()\n",
    "        for column in columnNames[:-1]:\n",
    "            data = x.loc[:,column]\n",
    "            max1=max(data)\n",
    "            min1=min(data)\n",
    "            for row in range(0,len(x),1):\n",
    "                xprim=(x.at[row, column]-min1)/(max1-min1)\n",
    "                x.at[row, column]=xprim\n",
    "                \n",
    "    @staticmethod\n",
    "    def split(x,k):\n",
    "        return x[:int(len(x)*k//1)], x[int(len(x)*k//1 +1):]"
   ]
  },
  {
   "cell_type": "code",
   "execution_count": 9,
   "id": "842f3416",
   "metadata": {},
   "outputs": [],
   "source": [
    "DataProcessing.shuffle(apps)\n",
    "apps = apps.reset_index(drop=True)"
   ]
  },
  {
   "cell_type": "code",
   "execution_count": 10,
   "id": "30f3f149",
   "metadata": {},
   "outputs": [],
   "source": [
    "DataProcessing.normalization(apps)"
   ]
  },
  {
   "cell_type": "code",
   "execution_count": 11,
   "id": "5825b675",
   "metadata": {},
   "outputs": [],
   "source": [
    "apps.head()"
   ]
  },
  {
   "cell_type": "code",
   "execution_count": 12,
   "id": "a1ded940",
   "metadata": {
    "scrolled": true
   },
   "outputs": [],
   "source": [
    "trainingSet, validatingSet = DataProcessing.split(apps, 0.999)\n",
    "validatingSet = validatingSet.reset_index(drop=True)\n",
    "validatingSet"
   ]
  },
  {
   "cell_type": "code",
   "execution_count": 13,
   "id": "adfbe289",
   "metadata": {},
   "outputs": [],
   "source": [
    "apps[\"Content Rating\"].unique().tolist()"
   ]
  },
  {
   "cell_type": "code",
   "execution_count": 14,
   "id": "3dadce7f",
   "metadata": {},
   "outputs": [],
   "source": [
    "if 'Mature 17+' in validatingSet[\"Content Rating\"].unique().tolist() or 'Adults only 18+' in validatingSet[\"Content Rating\"].unique().tolist():\n",
    "    validatingSet[\"Content Rating\"] = ['Adults only 18+' for i in range(len(validatingSet))]\n",
    "elif 'Teen' in validatingSet[\"Content Rating\"].unique().tolist():\n",
    "    validatingSet[\"Content Rating\"] = ['Teen' for i in range(len(validatingSet))]"
   ]
  },
  {
   "cell_type": "code",
   "execution_count": 15,
   "id": "2eca13ea",
   "metadata": {},
   "outputs": [],
   "source": [
    "validatingSet.head()"
   ]
  },
  {
   "cell_type": "markdown",
   "id": "66ac0f9b",
   "metadata": {},
   "source": [
    "<h2>k-nearest neighbors algorithm</h2>"
   ]
  },
  {
   "cell_type": "code",
   "execution_count": 16,
   "id": "845a3baa",
   "metadata": {},
   "outputs": [],
   "source": [
    "class KNN:\n",
    "    @staticmethod\n",
    "    def distance(v1, v2):\n",
    "        sum = 0\n",
    "        for j in range(1,len(v1)):\n",
    "            if j != 5 and j!=6 and j!=7:\n",
    "                sum += (v1[j] - v2[j])**2\n",
    "        return sum**(1/2)\n",
    "    def clustering(dataset, sample):\n",
    "        distances = []\n",
    "        for i in range(len(dataset)):\n",
    "            distances.append(KNN.distance(sample, dataset.iloc[i]))\n",
    "            if dataset.iloc[i]['Android Ver'] > sample['Android Ver']:\n",
    "                distances[i] = 10\n",
    "            if sample['Content Rating'] != 'Adults only 18+':\n",
    "                if dataset.iloc[i]['Content Rating'] in ['Mature 17+','Adults only 18+']:\n",
    "                    distances[i] = 10\n",
    "            elif sample['Content Rating'] != 'Teen':\n",
    "                if dataset.iloc[i]['Content Rating'] in ['Teen','Mature 17+','Adults only 18+']:\n",
    "                    distances[i] = 10\n",
    "        dataset[\"distance\"] = distances\n",
    "                    \n",
    "        return dataset\n",
    "    \n",
    "    def recommendation(dataset,samples):\n",
    "        sorted = []\n",
    "        dataset[\"distance\"] = [10 for x in range(len(dataset))]\n",
    "        for index in range(len(samples)):\n",
    "            sorted.append(KNN.clustering(dataset.copy(),samples.iloc[index]))\n",
    "        distances = []\n",
    "        for index in dataset.index:\n",
    "#             dataset.loc[index,'distance']\n",
    "            distance = []\n",
    "            for i in range(len(sorted)):\n",
    "                distance.append(sorted[i].loc[index,'distance'])\n",
    "            avg = []\n",
    "            for i in range(3):\n",
    "                avg.append(min(distance))\n",
    "                distance.remove(min(distance))\n",
    "            distances.append(sum(avg)/3)\n",
    "        dataset[\"distance\"] = distances\n",
    "        dataset = dataset.sort_values(\"distance\")\n",
    "        return dataset.head(10)"
   ]
  },
  {
   "cell_type": "markdown",
   "id": "15b04290",
   "metadata": {},
   "source": [
    "<h2>Apps Recommendation</h2>"
   ]
  },
  {
   "cell_type": "markdown",
   "id": "7a504d2a",
   "metadata": {},
   "source": [
    "<h4>Method 1</h4>"
   ]
  },
  {
   "cell_type": "code",
   "execution_count": 17,
   "id": "9789dcca",
   "metadata": {},
   "outputs": [],
   "source": [
    "avgRating = pd.to_numeric(validatingSet['Rating'], errors='coerce').mean()\n",
    "avgReviews = pd.to_numeric(validatingSet['Reviews'], errors='coerce').mean()\n",
    "avgSize = pd.to_numeric(validatingSet['Size'], errors='coerce').mean()\n",
    "avgInstalls = pd.to_numeric(validatingSet['Installs'], errors='coerce').mean()\n",
    "maxAndroidVer = max(validatingSet['Android Ver'])\n",
    "genres = []\n",
    "for i in validatingSet.columns.tolist()[8:]:\n",
    "    genres.append(pd.to_numeric(validatingSet[i], errors='coerce').mean())\n",
    "avgAppList = ['avgApp',avgRating,avgReviews,avgSize,avgInstalls,validatingSet.iloc[0]['Content Rating'],\"avgGenre\",maxAndroidVer]\n",
    "for i in genres:\n",
    "    avgAppList.append(i)\n",
    "avgApp = pd.DataFrame(columns=validatingSet.columns.tolist())\n",
    "avgApp.loc[0] = avgAppList\n",
    "recommendedApps = KNN.clustering(trainingSet.copy(), validatingSet.iloc[0])\n",
    "recommendedApps.sort_values(\"distance\").head()"
   ]
  },
  {
   "cell_type": "code",
   "execution_count": 18,
   "id": "146052d8",
   "metadata": {},
   "outputs": [],
   "source": [
    "validatingSet.head()"
   ]
  },
  {
   "cell_type": "markdown",
   "id": "454c532f",
   "metadata": {},
   "source": [
    "<h4>Method 2</h4>"
   ]
  },
  {
   "cell_type": "code",
   "execution_count": 19,
   "id": "6f44fffa",
   "metadata": {},
   "outputs": [],
   "source": [
    "KNN.recommendation(trainingSet.copy(),validatingSet.copy())"
   ]
  },
  {
   "cell_type": "code",
   "execution_count": null,
   "id": "1346f265",
   "metadata": {},
   "outputs": [],
   "source": []
  },
  {
   "cell_type": "code",
   "execution_count": null,
   "id": "c43183dd",
   "metadata": {},
   "outputs": [],
   "source": []
  }
 ],
 "metadata": {
  "kernelspec": {
   "display_name": "Python 3 (ipykernel)",
   "language": "python",
   "name": "python3"
  },
  "language_info": {
   "codemirror_mode": {
    "name": "ipython",
    "version": 3
   },
   "file_extension": ".py",
   "mimetype": "text/x-python",
   "name": "python",
   "nbconvert_exporter": "python",
   "pygments_lexer": "ipython3",
   "version": "3.11.3"
  }
 },
 "nbformat": 4,
 "nbformat_minor": 5
}
